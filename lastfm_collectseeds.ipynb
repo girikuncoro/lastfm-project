{
 "metadata": {
  "name": "",
  "signature": "sha256:deafb86b9b6f4071af2f58e4c9abcc4a303d31e288c4eee3373dc0cb44b83ca0"
 },
 "nbformat": 3,
 "nbformat_minor": 0,
 "worksheets": [
  {
   "cells": [
    {
     "cell_type": "code",
     "collapsed": false,
     "input": [
      "# IMPORT\n",
      "import json\n",
      "from urllib import urlopen\n",
      "from pprint import pprint\n",
      "import urllib\n",
      "\n",
      "# CONSTANT\n",
      "API_HOST = 'ws.audioscrobbler.com'\n",
      "PATH = '/2.0/'\n",
      "\n",
      "# API key obtained from http://www.last.fm/api/accounts\n",
      "API_KEY = 'ee01024f2fb18a7179897d7d927fef88'\n",
      "\n",
      "'''\n",
      "Request function will call API and get response\n",
      "specifiy url_params dictionary as arguments\n",
      "'''\n",
      "def request(host, path, url_params=None):\n",
      "    url_params = url_params or {}\n",
      "    params = 'format=json'\n",
      "    for key in url_params:\n",
      "        params += '&' + key + '=' + url_params[key]\n",
      "        \n",
      "    url = 'http://{0}{1}?{2}'.format(host, path, params)\n",
      "\n",
      "    json_data = urlopen(url).read()\n",
      "    response = json.loads(json_data)\n",
      "    \n",
      "    return response"
     ],
     "language": "python",
     "metadata": {},
     "outputs": [],
     "prompt_number": 1
    },
    {
     "cell_type": "code",
     "collapsed": false,
     "input": [
      "# Get metros data in United States\n",
      "url_params = {\n",
      "    'method': 'geo.getmetros',\n",
      "    'country': 'United States',\n",
      "    'api_key': API_KEY\n",
      "}\n",
      "\n",
      "data = request(API_HOST, PATH, url_params)\n",
      "\n",
      "# Write to txt\n",
      "f_metros = open('metros_data.json', 'w')\n",
      "f_metros.write(str(data))\n",
      "f_metros.close()\n",
      "\n",
      "# Number of metros obtained\n",
      "metros = data['metros']['metro']\n",
      "print len(metros)\n",
      "pprint(metros)"
     ],
     "language": "python",
     "metadata": {},
     "outputs": [
      {
       "output_type": "stream",
       "stream": "stdout",
       "text": [
        "47\n",
        "[{u'country': u'United States', u'name': u'Boston'},\n",
        " {u'country': u'United States', u'name': u'Austin'},\n",
        " {u'country': u'United States', u'name': u'Jacksonville'},\n",
        " {u'country': u'United States', u'name': u'Pensacola'},\n",
        " {u'country': u'United States', u'name': u'New Orleans'},\n",
        " {u'country': u'United States', u'name': u'Houston'},\n",
        " {u'country': u'United States', u'name': u'Atlanta'},\n",
        " {u'country': u'United States', u'name': u'Nashville'},\n",
        " {u'country': u'United States', u'name': u'Memphis'},\n",
        " {u'country': u'United States', u'name': u'Little Rock'},\n",
        " {u'country': u'United States', u'name': u'Denver'},\n",
        " {u'country': u'United States', u'name': u'Milwaukee'},\n",
        " {u'country': u'United States', u'name': u'El Paso'},\n",
        " {u'country': u'United States', u'name': u'Tampa'},\n",
        " {u'country': u'United States', u'name': u'Orlando'},\n",
        " {u'country': u'United States', u'name': u'Philadelphia'},\n",
        " {u'country': u'United States', u'name': u'Minneapolis'},\n",
        " {u'country': u'United States', u'name': u'Columbus'},\n",
        " {u'country': u'United States', u'name': u'Cleveland'},\n",
        " {u'country': u'United States', u'name': u'Pittsburgh'},\n",
        " {u'country': u'United States', u'name': u'Washington DC'},\n",
        " {u'country': u'United States', u'name': u'Baltimore'},\n",
        " {u'country': u'United States', u'name': u'Virginia Beach'},\n",
        " {u'country': u'United States', u'name': u'Richmond'},\n",
        " {u'country': u'United States', u'name': u'Detroit'},\n",
        " {u'country': u'United States', u'name': u'Chicago'},\n",
        " {u'country': u'United States', u'name': u'St Louis'},\n",
        " {u'country': u'United States', u'name': u'Indianapolis'},\n",
        " {u'country': u'United States', u'name': u'Louisville'},\n",
        " {u'country': u'United States', u'name': u'Cincinnati'},\n",
        " {u'country': u'United States', u'name': u'Syracuse'},\n",
        " {u'country': u'United States', u'name': u'Rochester'},\n",
        " {u'country': u'United States', u'name': u'Buffalo'},\n",
        " {u'country': u'United States', u'name': u'Seattle'},\n",
        " {u'country': u'United States', u'name': u'Portland'},\n",
        " {u'country': u'United States', u'name': u'Las Vegas'},\n",
        " {u'country': u'United States', u'name': u'Sacramento'},\n",
        " {u'country': u'United States', u'name': u'San Jose'},\n",
        " {u'country': u'United States', u'name': u'San Francisco'},\n",
        " {u'country': u'United States', u'name': u'San Diego'},\n",
        " {u'country': u'United States', u'name': u'Los Angeles'},\n",
        " {u'country': u'United States', u'name': u'Phoenix'},\n",
        " {u'country': u'United States', u'name': u'Miami'},\n",
        " {u'country': u'United States', u'name': u'New York'},\n",
        " {u'country': u'United States', u'name': u'West Palm Beach'},\n",
        " {u'country': u'United States', u'name': u'Dallas'},\n",
        " {u'country': u'United States', u'name': u'Wichita'}]\n"
       ]
      }
     ],
     "prompt_number": 23
    },
    {
     "cell_type": "code",
     "collapsed": false,
     "input": [
      "# Get top artists in the US\n",
      "url_params = {\n",
      "    'method': 'geo.getTopArtists',\n",
      "    'country': 'United States',\n",
      "    'api_key': API_KEY\n",
      "}\n",
      "\n",
      "data = request(API_HOST, PATH, url_params)\n",
      "\n",
      "# Number of artists obtained\n",
      "artists = data['topartists']['artist']\n",
      "\n",
      "for artist in artists: \n",
      "    print artist['listeners'], artist['name']"
     ],
     "language": "python",
     "metadata": {},
     "outputs": [
      {
       "output_type": "stream",
       "stream": "stdout",
       "text": [
        "15689 Drake\n",
        "10291 Kanye West\n",
        "8042 Radiohead\n",
        "7999 Modest Mouse\n",
        "7159 Kendrick Lamar\n",
        "6793 Beck\n",
        "6687 Daft Punk\n",
        "6641 Beyonc\u00e9\n",
        "6311 Sufjan Stevens\n",
        "6157 Lana Del Rey\n",
        "6024 Sia\n",
        "5987 Passion Pit\n",
        "5935 Nicki Minaj\n",
        "5926 Coldplay\n",
        "5859 Father John Misty\n",
        "5739 Florence + the Machine\n",
        "5732 Imagine Dragons\n",
        "5607 Fall Out Boy\n",
        "5497 Arcade Fire\n",
        "5465 Death Cab for Cutie\n",
        "5380 Ellie Goulding\n",
        "5355 alt-J\n",
        "5341 Mark Ronson\n",
        "5311 Hozier\n",
        "5267 Arctic Monkeys\n",
        "5216 Ed Sheeran\n",
        "5146 Jay-Z\n",
        "5139 David Bowie\n",
        "4897 The Black Keys\n",
        "4870 Calvin Harris\n",
        "4842 Maroon 5\n",
        "4834 Big Sean\n",
        "4828 Nirvana\n",
        "4823 Weezer\n",
        "4772 Gorillaz\n",
        "4768 The Beatles\n",
        "4753 Taylor Swift\n",
        "4747 Purity Ring\n",
        "4730 Childish Gambino\n",
        "4727 Lorde\n",
        "4683 The Weeknd\n",
        "4645 Bon Iver\n",
        "4624 Led Zeppelin\n",
        "4590 The xx\n",
        "4586 Vampire Weekend\n",
        "4541 The Rolling Stones\n",
        "4526 Jos\u00e9 Gonz\u00e1lez\n",
        "4427 M83\n",
        "4400 Red Hot Chili Peppers\n",
        "4326 Pink Floyd\n"
       ]
      }
     ],
     "prompt_number": 2
    },
    {
     "cell_type": "code",
     "collapsed": false,
     "input": [
      "'''\n",
      "Get unique artists from metros\n",
      "number of pages to call and name of metros as arguments\n",
      "'''\n",
      "def get_unique_artist(number_of_pages, metro_name): \n",
      "    metro_data = []\n",
      "    url_params = {\n",
      "        'method': 'geo.getMetroUniqueArtistChart',\n",
      "        'country': 'United States',\n",
      "        'metro': metro_name,\n",
      "        'api_key': API_KEY\n",
      "    }\n",
      "    \n",
      "    for i in range(0, number_of_pages):\n",
      "        url_params['page'] = str(i + 1)\n",
      "        metro_data.append(request(API_HOST, PATH, url_params))\n",
      "    \n",
      "    return metro_data"
     ],
     "language": "python",
     "metadata": {},
     "outputs": []
    },
    {
     "cell_type": "code",
     "collapsed": false,
     "input": [
      "# Print 100 artists from New York\n",
      "metro_name = 'New York'\n",
      "metro_artist = get_unique_artist(2, metro_name)\n",
      "\n",
      "content = ''\n",
      "for page in metro_artist:\n",
      "    for artist in page['topartists']['artist']:\n",
      "        content += ',\"{0}\"'.format(artist['name'].encode('utf-8'))\n",
      "\n",
      "print '{' + '\"{0}\":[{1}]'.format(metro_name, content[1:]) + '}'"
     ],
     "language": "python",
     "metadata": {},
     "outputs": [
      {
       "output_type": "stream",
       "stream": "stdout",
       "text": [
        "{\"New York\":[\"Drake\",\"Father John Misty\",\"Twin Shadow\",\"Blood Orange\",\"Absofacto\",\"TheWombats\",\"Leon Bridges\",\"Body Language\",\"Sufjan Stevens\",\"Speedy Ortiz\",\"Viceroy\",\"Jodie Abacus\",\"Natalie Prass\",\"Sylvan Esso\",\"Broken Social Scene\",\"Waxahatchee\",\"Mr Little Jeans\",\"Summer Heart\",\"Courtney Barnett\",\"Braids\",\"MNEK\",\"Mario\",\"Rilo Kiley\",\"Calvin Harris Feat Haim\",\"pr0files\",\"Action Bronson\",\"Yumi Zouma\",\"Unknown Mortal Orchestra\",\"Ghost Loft\",\"Maribou State\",\"Big Sean Feat. Kanye West & John Legend\",\"Tei Shi\",\"Sleater-Kinney\",\"Cosmo Sheldrake\",\"Lyves\",\"Phoebe Ryan feat. Skizzy Mars\",\"RAC\",\"Matt and Kim\",\"Big Sean\",\"Sharon Van Etten\",\"Lower Dens\",\"brokenwittrebels\",\"Tkay Maidza\",\"Ty Dolla $ign\",\"Fetty Wap\",\"Todd Terje\",\"Cam'ron\",\"That's Nice (Official)\",\"Slum Village\",\"Marian Hill\",\"B\u00d8RNS\",\"Passion Pit\",\"FRANKIE\",\"The Magnetic Fields\",\"Jos\u00e9 Gonzalez\",\"Mr Twin Sister\",\"Sonny & The Sunsets\",\"Real Estate\",\"Small Black\",\"Sam Feldt\",\"Shy Girls\",\"Rozzi Crane\",\"Chairlift\",\"Spoon\",\"Tennis\",\"Kevin Garrett\",\"Matrimony\",\"Elle King\",\"Freedom Fry\",\"Phoebe Ryan\",\"San Fermin\",\"Jazmine Sullivan\",\"Talib Kweli ft. Mos Def, Jay-Z, Kanye West & Busta Rhymes\",\"Vic Mensa\",\"The New Pornographers\",\"Champs.\",\"Autre Ne Veut\",\"Discovery\",\"Geographer\",\"I LOVE MAKONNEN\",\"Deerhunter\",\"The Hold Steady\",\"Hayden James\",\"Swiss Lips\",\"Who Is Fancy\",\"Atlas Sound\",\"ASTR\",\"Miguel\",\"Maliibu N Helene\",\"Chicago Public Media\",\"Borgeous & Shaun Frank\",\"Migos\",\"Mitski\",\"OnklP & De Fjerne Slektningene\",\"VACATIONER\",\"Made In Heights\",\"Bad Wave\",\"STRFKR\",\"Yeasayer\",\"Ginuwine\"]}\n"
       ]
      }
     ],
     "prompt_number": 16
    },
    {
     "cell_type": "code",
     "collapsed": false,
     "input": [
      "# Get 100 unique artists from each metro (47 metros in US)\n",
      "# write to \"metro_unique_artist_data.json\" file\n",
      "i, j = 0, 1\n",
      "full_content = ''\n",
      "\n",
      "for metro in metros:\n",
      "    metro_artist = get_unique_artist(2, metro['name'])\n",
      "    \n",
      "    content = ''\n",
      "    for page in metro_artist:\n",
      "        if 'artist' in page['topartists']:\n",
      "            for artist in page['topartists']['artist']:\n",
      "                content += ',\"{0}\"'.format(artist['name'].encode('utf-8'))\n",
      "                i += 1 # Count number of artists\n",
      "\n",
      "    full_content += '\"{0}\":[{1}]'.format(metro['name'], content[1:]) + ','\n",
      "    print '{0} artists crawled from {1} metros'.format(i, j)\n",
      "    j += 1 # Count number of metros\n",
      "\n",
      "# Write to text file\n",
      "f = open('metro_unique_artist_data.json', 'a+')\n",
      "f.write('{' + full_content[:-1] + '}')\n",
      "f.close()"
     ],
     "language": "python",
     "metadata": {},
     "outputs": [
      {
       "output_type": "stream",
       "stream": "stdout",
       "text": [
        "100 artists crawled from 1 metro\n",
        "200 artists crawled from 2 metro"
       ]
      },
      {
       "output_type": "stream",
       "stream": "stdout",
       "text": [
        "\n",
        "300 artists crawled from 3 metro"
       ]
      },
      {
       "output_type": "stream",
       "stream": "stdout",
       "text": [
        "\n",
        "400 artists crawled from 4 metro"
       ]
      },
      {
       "output_type": "stream",
       "stream": "stdout",
       "text": [
        "\n",
        "500 artists crawled from 5 metro"
       ]
      },
      {
       "output_type": "stream",
       "stream": "stdout",
       "text": [
        "\n",
        "600 artists crawled from 6 metro"
       ]
      },
      {
       "output_type": "stream",
       "stream": "stdout",
       "text": [
        "\n",
        "700 artists crawled from 7 metro"
       ]
      },
      {
       "output_type": "stream",
       "stream": "stdout",
       "text": [
        "\n",
        "800 artists crawled from 8 metro"
       ]
      },
      {
       "output_type": "stream",
       "stream": "stdout",
       "text": [
        "\n",
        "900 artists crawled from 9 metro"
       ]
      },
      {
       "output_type": "stream",
       "stream": "stdout",
       "text": [
        "\n",
        "1000 artists crawled from 10 metro"
       ]
      },
      {
       "output_type": "stream",
       "stream": "stdout",
       "text": [
        "\n",
        "1100 artists crawled from 11 metro"
       ]
      },
      {
       "output_type": "stream",
       "stream": "stdout",
       "text": [
        "\n",
        "1200 artists crawled from 12 metro"
       ]
      },
      {
       "output_type": "stream",
       "stream": "stdout",
       "text": [
        "\n",
        "1300 artists crawled from 13 metro"
       ]
      },
      {
       "output_type": "stream",
       "stream": "stdout",
       "text": [
        "\n",
        "1400 artists crawled from 14 metro"
       ]
      },
      {
       "output_type": "stream",
       "stream": "stdout",
       "text": [
        "\n",
        "1500 artists crawled from 15 metro"
       ]
      },
      {
       "output_type": "stream",
       "stream": "stdout",
       "text": [
        "\n",
        "1600 artists crawled from 16 metro"
       ]
      },
      {
       "output_type": "stream",
       "stream": "stdout",
       "text": [
        "\n",
        "1700 artists crawled from 17 metro"
       ]
      },
      {
       "output_type": "stream",
       "stream": "stdout",
       "text": [
        "\n",
        "1800 artists crawled from 18 metro"
       ]
      },
      {
       "output_type": "stream",
       "stream": "stdout",
       "text": [
        "\n",
        "1900 artists crawled from 19 metro"
       ]
      },
      {
       "output_type": "stream",
       "stream": "stdout",
       "text": [
        "\n",
        "2000 artists crawled from 20 metro"
       ]
      },
      {
       "output_type": "stream",
       "stream": "stdout",
       "text": [
        "\n",
        "2000 artists crawled from 21 metro"
       ]
      },
      {
       "output_type": "stream",
       "stream": "stdout",
       "text": [
        "\n",
        "2100 artists crawled from 22 metro"
       ]
      },
      {
       "output_type": "stream",
       "stream": "stdout",
       "text": [
        "\n",
        "2200 artists crawled from 23 metro"
       ]
      },
      {
       "output_type": "stream",
       "stream": "stdout",
       "text": [
        "\n",
        "2300 artists crawled from 24 metro"
       ]
      },
      {
       "output_type": "stream",
       "stream": "stdout",
       "text": [
        "\n",
        "2400 artists crawled from 25 metro"
       ]
      },
      {
       "output_type": "stream",
       "stream": "stdout",
       "text": [
        "\n",
        "2500 artists crawled from 26 metro"
       ]
      },
      {
       "output_type": "stream",
       "stream": "stdout",
       "text": [
        "\n",
        "2600 artists crawled from 27 metro"
       ]
      },
      {
       "output_type": "stream",
       "stream": "stdout",
       "text": [
        "\n",
        "2700 artists crawled from 28 metro"
       ]
      },
      {
       "output_type": "stream",
       "stream": "stdout",
       "text": [
        "\n",
        "2800 artists crawled from 29 metro"
       ]
      },
      {
       "output_type": "stream",
       "stream": "stdout",
       "text": [
        "\n",
        "2900 artists crawled from 30 metro"
       ]
      },
      {
       "output_type": "stream",
       "stream": "stdout",
       "text": [
        "\n",
        "3000 artists crawled from 31 metro"
       ]
      },
      {
       "output_type": "stream",
       "stream": "stdout",
       "text": [
        "\n",
        "3100 artists crawled from 32 metro"
       ]
      },
      {
       "output_type": "stream",
       "stream": "stdout",
       "text": [
        "\n",
        "3200 artists crawled from 33 metro"
       ]
      },
      {
       "output_type": "stream",
       "stream": "stdout",
       "text": [
        "\n",
        "3300 artists crawled from 34 metro"
       ]
      },
      {
       "output_type": "stream",
       "stream": "stdout",
       "text": [
        "\n",
        "3400 artists crawled from 35 metro"
       ]
      },
      {
       "output_type": "stream",
       "stream": "stdout",
       "text": [
        "\n",
        "3500 artists crawled from 36 metro"
       ]
      },
      {
       "output_type": "stream",
       "stream": "stdout",
       "text": [
        "\n",
        "3600 artists crawled from 37 metro"
       ]
      },
      {
       "output_type": "stream",
       "stream": "stdout",
       "text": [
        "\n",
        "3700 artists crawled from 38 metro"
       ]
      },
      {
       "output_type": "stream",
       "stream": "stdout",
       "text": [
        "\n",
        "3800 artists crawled from 39 metro"
       ]
      },
      {
       "output_type": "stream",
       "stream": "stdout",
       "text": [
        "\n",
        "3900 artists crawled from 40 metro"
       ]
      },
      {
       "output_type": "stream",
       "stream": "stdout",
       "text": [
        "\n",
        "4000 artists crawled from 41 metro"
       ]
      },
      {
       "output_type": "stream",
       "stream": "stdout",
       "text": [
        "\n",
        "4100 artists crawled from 42 metro"
       ]
      },
      {
       "output_type": "stream",
       "stream": "stdout",
       "text": [
        "\n",
        "4200 artists crawled from 43 metro"
       ]
      },
      {
       "output_type": "stream",
       "stream": "stdout",
       "text": [
        "\n",
        "4300 artists crawled from 44 metro"
       ]
      },
      {
       "output_type": "stream",
       "stream": "stdout",
       "text": [
        "\n",
        "4400 artists crawled from 45 metro"
       ]
      },
      {
       "output_type": "stream",
       "stream": "stdout",
       "text": [
        "\n",
        "4500 artists crawled from 46 metro"
       ]
      },
      {
       "output_type": "stream",
       "stream": "stdout",
       "text": [
        "\n",
        "4600 artists crawled from 47 metro"
       ]
      },
      {
       "output_type": "stream",
       "stream": "stdout",
       "text": [
        "\n"
       ]
      }
     ],
     "prompt_number": 112
    },
    {
     "cell_type": "code",
     "collapsed": false,
     "input": [
      "# Confirm 0 artists from Washington DC\n",
      "url_params = {\n",
      "    'method': 'geo.getMetroUniqueArtistChart',\n",
      "    'country': 'United States',\n",
      "    'metro': 'Washington DC',\n",
      "    'api_key': API_KEY\n",
      "}\n",
      "\n",
      "data = request(API_HOST, PATH, url_params)\n",
      "\n",
      "pprint (data)"
     ],
     "language": "python",
     "metadata": {},
     "outputs": [
      {
       "output_type": "stream",
       "stream": "stdout",
       "text": [
        "{u'topartists': {u'#text': u'\\n    ',\n",
        "                 u'metro': u'Washington DC',\n",
        "                 u'page': u'0',\n",
        "                 u'perPage': u'50',\n",
        "                 u'total': u'0',\n",
        "                 u'totalPages': u'0'}}\n"
       ]
      }
     ],
     "prompt_number": 114
    },
    {
     "cell_type": "code",
     "collapsed": false,
     "input": [
      "'''\n",
      "Getting 50 top fans from the artist\n",
      "'''\n",
      "def get_fans(artist_name):\n",
      "    url_params = {\n",
      "        'method': 'artist.getTopFans',\n",
      "        'artist': artist_name,\n",
      "        'api_key': API_KEY\n",
      "    }\n",
      "    return request(API_HOST, PATH, url_params)"
     ],
     "language": "python",
     "metadata": {},
     "outputs": [],
     "prompt_number": 4
    },
    {
     "cell_type": "code",
     "collapsed": false,
     "input": [
      "import json\n",
      "\n",
      "# Get artist data from json file\n",
      "json_data = open('metro_unique_artist_data.json')\n",
      "artists = json.load(json_data)\n",
      "json_data.close()\n",
      "\n",
      "# Collect fans from each artist\n",
      "i,j = 0,1\n",
      "full_content = ''\n",
      "for metro in artists:\n",
      "    for artist in artists[metro]:\n",
      "        fans_data = get_fans(artist.encode('utf-8'))\n",
      "        if 'topfans' in fans_data:\n",
      "            fans = fans_data['topfans']\n",
      "            content = ''\n",
      "            if 'user' in fans:\n",
      "                if isinstance(fans['user'], list):\n",
      "                    for fan in fans['user']:\n",
      "                        content += ',{' + '\"user_name\":\"{0}\",\"weight\":{1}'.format(fan['name'].encode('utf-8'), fan['weight']) + '}'\n",
      "                        i += 1\n",
      "\n",
      "            full_content += '\"{0}\":[{1}]'.format(artist.encode('utf-8'), content[1:]) + ','\n",
      "    print 'Crawled {0} fans from {1} metros'.format(i, j)\n",
      "    j += 1\n",
      "\n",
      "# Write to text file\n",
      "f = open('unique_artist_fans_data.json', 'w')\n",
      "f.write('{' + full_content[:-1] + '}')\n",
      "f.close()"
     ],
     "language": "python",
     "metadata": {},
     "outputs": [
      {
       "output_type": "stream",
       "stream": "stdout",
       "text": [
        "Crawled 4609 fans from 1 metros\n",
        "Crawled 9594 fans from 2 metros"
       ]
      },
      {
       "output_type": "stream",
       "stream": "stdout",
       "text": [
        "\n",
        "Crawled 14544 fans from 3 metros"
       ]
      },
      {
       "output_type": "stream",
       "stream": "stdout",
       "text": [
        "\n",
        "Crawled 19508 fans from 4 metros"
       ]
      },
      {
       "output_type": "stream",
       "stream": "stdout",
       "text": [
        "\n",
        "Crawled 24508 fans from 5 metros"
       ]
      },
      {
       "output_type": "stream",
       "stream": "stdout",
       "text": [
        "\n",
        "Crawled 29458 fans from 6 metros"
       ]
      },
      {
       "output_type": "stream",
       "stream": "stdout",
       "text": [
        "\n",
        "Crawled 34366 fans from 7 metros"
       ]
      },
      {
       "output_type": "stream",
       "stream": "stdout",
       "text": [
        "\n",
        "Crawled 39316 fans from 8 metros"
       ]
      },
      {
       "output_type": "stream",
       "stream": "stdout",
       "text": [
        "\n",
        "Crawled 39316 fans from 9 metros\n",
        "Crawled 43905 fans from 10 metros"
       ]
      },
      {
       "output_type": "stream",
       "stream": "stdout",
       "text": [
        "\n",
        "Crawled 47373 fans from 11 metros"
       ]
      },
      {
       "output_type": "stream",
       "stream": "stdout",
       "text": [
        "\n",
        "Crawled 52373 fans from 12 metros"
       ]
      },
      {
       "output_type": "stream",
       "stream": "stdout",
       "text": [
        "\n",
        "Crawled 57282 fans from 13 metros"
       ]
      },
      {
       "output_type": "stream",
       "stream": "stdout",
       "text": [
        "\n",
        "Crawled 62232 fans from 14 metros"
       ]
      },
      {
       "output_type": "stream",
       "stream": "stdout",
       "text": [
        "\n",
        "Crawled 67232 fans from 15 metros"
       ]
      },
      {
       "output_type": "stream",
       "stream": "stdout",
       "text": [
        "\n",
        "Crawled 72232 fans from 16 metros"
       ]
      },
      {
       "output_type": "stream",
       "stream": "stdout",
       "text": [
        "\n",
        "Crawled 77148 fans from 17 metros"
       ]
      },
      {
       "output_type": "stream",
       "stream": "stdout",
       "text": [
        "\n",
        "Crawled 81981 fans from 18 metros"
       ]
      },
      {
       "output_type": "stream",
       "stream": "stdout",
       "text": [
        "\n",
        "Crawled 86981 fans from 19 metros"
       ]
      },
      {
       "output_type": "stream",
       "stream": "stdout",
       "text": [
        "\n",
        "Crawled 91981 fans from 20 metros"
       ]
      },
      {
       "output_type": "stream",
       "stream": "stdout",
       "text": [
        "\n",
        "Crawled 96981 fans from 21 metros"
       ]
      },
      {
       "output_type": "stream",
       "stream": "stdout",
       "text": [
        "\n",
        "Crawled 101828 fans from 22 metros"
       ]
      },
      {
       "output_type": "stream",
       "stream": "stdout",
       "text": [
        "\n",
        "Crawled 106437 fans from 23 metros"
       ]
      },
      {
       "output_type": "stream",
       "stream": "stdout",
       "text": [
        "\n",
        "Crawled 111394 fans from 24 metros"
       ]
      },
      {
       "output_type": "stream",
       "stream": "stdout",
       "text": [
        "\n",
        "Crawled 116394 fans from 25 metros"
       ]
      },
      {
       "output_type": "stream",
       "stream": "stdout",
       "text": [
        "\n",
        "Crawled 121248 fans from 26 metros"
       ]
      },
      {
       "output_type": "stream",
       "stream": "stdout",
       "text": [
        "\n",
        "Crawled 126165 fans from 27 metros"
       ]
      },
      {
       "output_type": "stream",
       "stream": "stdout",
       "text": [
        "\n",
        "Crawled 131065 fans from 28 metros"
       ]
      },
      {
       "output_type": "stream",
       "stream": "stdout",
       "text": [
        "\n",
        "Crawled 135949 fans from 29 metros"
       ]
      },
      {
       "output_type": "stream",
       "stream": "stdout",
       "text": [
        "\n",
        "Crawled 140811 fans from 30 metros"
       ]
      },
      {
       "output_type": "stream",
       "stream": "stdout",
       "text": [
        "\n",
        "Crawled 145618 fans from 31 metros"
       ]
      },
      {
       "output_type": "stream",
       "stream": "stdout",
       "text": [
        "\n",
        "Crawled 150573 fans from 32 metros"
       ]
      },
      {
       "output_type": "stream",
       "stream": "stdout",
       "text": [
        "\n",
        "Crawled 155482 fans from 33 metros"
       ]
      },
      {
       "output_type": "stream",
       "stream": "stdout",
       "text": [
        "\n",
        "Crawled 160482 fans from 34 metros"
       ]
      },
      {
       "output_type": "stream",
       "stream": "stdout",
       "text": [
        "\n",
        "Crawled 164708 fans from 35 metros"
       ]
      },
      {
       "output_type": "stream",
       "stream": "stdout",
       "text": [
        "\n",
        "Crawled 169708 fans from 36 metros"
       ]
      },
      {
       "output_type": "stream",
       "stream": "stdout",
       "text": [
        "\n",
        "Crawled 174708 fans from 37 metros"
       ]
      },
      {
       "output_type": "stream",
       "stream": "stdout",
       "text": [
        "\n",
        "Crawled 179581 fans from 38 metros"
       ]
      },
      {
       "output_type": "stream",
       "stream": "stdout",
       "text": [
        "\n",
        "Crawled 184581 fans from 39 metros"
       ]
      },
      {
       "output_type": "stream",
       "stream": "stdout",
       "text": [
        "\n",
        "Crawled 189531 fans from 40 metros"
       ]
      },
      {
       "output_type": "stream",
       "stream": "stdout",
       "text": [
        "\n",
        "Crawled 194396 fans from 41 metros"
       ]
      },
      {
       "output_type": "stream",
       "stream": "stdout",
       "text": [
        "\n",
        "Crawled 199346 fans from 42 metros"
       ]
      },
      {
       "output_type": "stream",
       "stream": "stdout",
       "text": [
        "\n",
        "Crawled 204289 fans from 43 metros"
       ]
      },
      {
       "output_type": "stream",
       "stream": "stdout",
       "text": [
        "\n",
        "Crawled 209239 fans from 44 metros"
       ]
      },
      {
       "output_type": "stream",
       "stream": "stdout",
       "text": [
        "\n",
        "Crawled 214239 fans from 45 metros"
       ]
      },
      {
       "output_type": "stream",
       "stream": "stdout",
       "text": [
        "\n",
        "Crawled 219189 fans from 46 metros"
       ]
      },
      {
       "output_type": "stream",
       "stream": "stdout",
       "text": [
        "\n",
        "Crawled 224189 fans from 47 metros"
       ]
      },
      {
       "output_type": "stream",
       "stream": "stdout",
       "text": [
        "\n"
       ]
      }
     ],
     "prompt_number": 10
    },
    {
     "cell_type": "code",
     "collapsed": false,
     "input": [
      "# Check artist that caused error\n",
      "artist_name = 'brokenwittrebels'\n",
      "data = get_fans(artist_name)\n",
      "fans = data['topfans']['user']\n",
      "\n",
      "print isinstance(fans, list)\n",
      "pprint(data['topfans'])"
     ],
     "language": "python",
     "metadata": {},
     "outputs": [
      {
       "output_type": "stream",
       "stream": "stdout",
       "text": [
        "False\n",
        "{u'@attr': {u'artist': u'brokenwittrebels'},\n",
        " u'user': {u'image': [{u'#text': u'', u'size': u'small'},\n",
        "                      {u'#text': u'', u'size': u'medium'},\n",
        "                      {u'#text': u'', u'size': u'large'},\n",
        "                      {u'#text': u'', u'size': u'extralarge'}],\n",
        "           u'name': u'owengage',\n",
        "           u'realname': u'',\n",
        "           u'url': u'http://www.last.fm/user/owengage',\n",
        "           u'weight': u'46'}}\n"
       ]
      }
     ],
     "prompt_number": 26
    },
    {
     "cell_type": "code",
     "collapsed": false,
     "input": [
      "'''\n",
      "Get top artists chart from metros\n",
      "number of pages to call and name of metros as arguments\n",
      "'''\n",
      "def get_metro_artist(number_of_pages, metro_name): \n",
      "    metro_data = []\n",
      "    url_params = {\n",
      "        'method': 'geo.getMetroArtistChart',\n",
      "        'country': 'United States',\n",
      "        'metro': metro_name,\n",
      "        'api_key': API_KEY\n",
      "    }\n",
      "    \n",
      "    for i in range(0, number_of_pages):\n",
      "        url_params['page'] = str(i + 1)\n",
      "        metro_data.append(request(API_HOST, PATH, url_params))\n",
      "    \n",
      "    return metro_data"
     ],
     "language": "python",
     "metadata": {},
     "outputs": []
    },
    {
     "cell_type": "code",
     "collapsed": false,
     "input": [
      "# Print 100 artists from New York\n",
      "metro_name = 'New York'\n",
      "metro_artist = get_metro_artist(2, metro_name)\n",
      "\n",
      "content = ''\n",
      "for page in metro_artist:\n",
      "    for artist in page['topartists']['artist']:\n",
      "        content += ',\"{0}\"'.format(artist['name'].encode('utf-8'))\n",
      "\n",
      "print 'Result from getMetroArtistChart call\\n'\n",
      "print '{' + '\"{0}\":[{1}]'.format(metro_name, content[1:]) + '}'\n",
      "\n",
      "# See differences with unique artist call\n",
      "unique_artist = get_unique_artist(2, metro_name)\n",
      "\n",
      "content = ''\n",
      "for page in unique_artist:\n",
      "    for artist in page['topartists']['artist']:\n",
      "        content += ',\"{0}\"'.format(artist['name'].encode('utf-8'))\n",
      "\n",
      "print '\\nResult from getMetroUniqueArtist call\\n'\n",
      "print '{' + '\"{0}\":[{1}]'.format(metro_name, content[1:]) + '}'"
     ],
     "language": "python",
     "metadata": {},
     "outputs": [
      {
       "output_type": "stream",
       "stream": "stdout",
       "text": [
        "Result from getMetroArtistChart call\n",
        "\n",
        "{\"New York\":[\"Drake\",\"Kanye West\",\"Radiohead\",\"Sia\",\"Ellie Goulding\",\"Kendrick Lamar\",\"Daft Punk\",\"Mark Ronson\",\"Imagine Dragons\",\"Beyonc\u00e9\",\"Coldplay\",\"Lana Del Rey\",\"Beck\",\"Ed Sheeran\",\"Hozier\",\"Modest Mouse\",\"Florence + the Machine\",\"Calvin Harris\",\"Nicki Minaj\",\"Sufjan Stevens\",\"Father John Misty\",\"Maroon 5\",\"The Weeknd\",\"Passion Pit\",\"Arctic Monkeys\",\"alt-J\",\"Sam Smith\",\"Arcade Fire\",\"David Bowie\",\"The xx\",\"Big Sean\",\"The Rolling Stones\",\"Fall Out Boy\",\"Bob Dylan\",\"Bon Iver\",\"Ariana Grande\",\"Death Cab for Cutie\",\"Lorde\",\"Katy Perry\",\"Nirvana\",\"The National\",\"Rihanna\",\"Taylor Swift\",\"Avicii\",\"The Black Keys\",\"Muse\",\"Fleetwood Mac\",\"Foo Fighters\",\"M83\",\"Eminem\",\"Gorillaz\",\"Led Zeppelin\",\"Purity Ring\",\"Caribou\",\"Vampire Weekend\",\"Red Hot Chili Peppers\",\"The Killers\",\"Tove Lo\",\"Aphex Twin\",\"David Guetta\",\"Charli XCX\",\"The Smiths\",\"Queen\",\"The Beatles\",\"Pink Floyd\",\"Michael Jackson\",\"Childish Gambino\",\"The Strokes\",\"JAY Z\",\"Bonobo\",\"Weezer\",\"Madonna\",\"Disclosure\",\"CHVRCHES\",\"The Cure\",\"Blur\",\"The Shins\",\"Lykke Li\",\"Banks\",\"Spoon\",\"Phoenix\",\"Hot Chip\",\"St. Vincent\",\"R\u00f6yksopp\",\"Neil Young\",\"Bastille\",\"MGMT\",\"Lady Gaga\",\"Meghan Trainor\",\"OutKast\",\"Alesso\",\"Pixies\",\"ODESZA\",\"TV on the Radio\",\"James Blake\",\"Bj\u00f6rk\",\"Interpol\",\"Massive Attack\",\"Vance Joy\",\"The White Stripes\"]}\n",
        "\n",
        "Result from getMetroUniqueArtist call\n"
       ]
      },
      {
       "output_type": "stream",
       "stream": "stdout",
       "text": [
        "\n",
        "{\"New York\":[\"Drake\",\"Father John Misty\",\"Twin Shadow\",\"Blood Orange\",\"Absofacto\",\"TheWombats\",\"Leon Bridges\",\"Body Language\",\"Sufjan Stevens\",\"Speedy Ortiz\",\"Viceroy\",\"Jodie Abacus\",\"Natalie Prass\",\"Sylvan Esso\",\"Broken Social Scene\",\"Waxahatchee\",\"Mr Little Jeans\",\"Summer Heart\",\"Courtney Barnett\",\"Braids\",\"MNEK\",\"Mario\",\"Rilo Kiley\",\"Calvin Harris Feat Haim\",\"pr0files\",\"Action Bronson\",\"Yumi Zouma\",\"Unknown Mortal Orchestra\",\"Ghost Loft\",\"Maribou State\",\"Big Sean Feat. Kanye West & John Legend\",\"Tei Shi\",\"Sleater-Kinney\",\"Cosmo Sheldrake\",\"Lyves\",\"Phoebe Ryan feat. Skizzy Mars\",\"RAC\",\"Matt and Kim\",\"Big Sean\",\"Sharon Van Etten\",\"Lower Dens\",\"brokenwittrebels\",\"Tkay Maidza\",\"Ty Dolla $ign\",\"Fetty Wap\",\"Todd Terje\",\"Cam'ron\",\"That's Nice (Official)\",\"Slum Village\",\"Marian Hill\",\"B\u00d8RNS\",\"Passion Pit\",\"FRANKIE\",\"The Magnetic Fields\",\"Jos\u00e9 Gonzalez\",\"Mr Twin Sister\",\"Sonny & The Sunsets\",\"Real Estate\",\"Small Black\",\"Sam Feldt\",\"Shy Girls\",\"Rozzi Crane\",\"Chairlift\",\"Spoon\",\"Tennis\",\"Kevin Garrett\",\"Matrimony\",\"Elle King\",\"Freedom Fry\",\"Phoebe Ryan\",\"San Fermin\",\"Jazmine Sullivan\",\"Talib Kweli ft. Mos Def, Jay-Z, Kanye West & Busta Rhymes\",\"Vic Mensa\",\"The New Pornographers\",\"Champs.\",\"Autre Ne Veut\",\"Discovery\",\"Geographer\",\"I LOVE MAKONNEN\",\"Deerhunter\",\"The Hold Steady\",\"Hayden James\",\"Swiss Lips\",\"Who Is Fancy\",\"Atlas Sound\",\"ASTR\",\"Miguel\",\"Maliibu N Helene\",\"Chicago Public Media\",\"Borgeous & Shaun Frank\",\"Migos\",\"Mitski\",\"OnklP & De Fjerne Slektningene\",\"VACATIONER\",\"Made In Heights\",\"Bad Wave\",\"STRFKR\",\"Yeasayer\",\"Ginuwine\"]}\n"
       ]
      }
     ],
     "prompt_number": 21
    },
    {
     "cell_type": "code",
     "collapsed": false,
     "input": [
      "# Get 100 artists from each metro (47 metros in US)\n",
      "# write to \"metro_artist_chart_data.json\" file\n",
      "i, j = 0, 1\n",
      "full_content = ''\n",
      "\n",
      "for metro in metros:\n",
      "    metro_artist = get_metro_artist(2, metro['name'])\n",
      "    \n",
      "    content = ''\n",
      "    for page in metro_artist:\n",
      "        if 'artist' in page['topartists']:\n",
      "            for artist in page['topartists']['artist']:\n",
      "                content += ',\"{0}\"'.format(artist['name'].encode('utf-8'))\n",
      "                i += 1 # Count number of artists\n",
      "\n",
      "    full_content += '\"{0}\":[{1}]'.format(metro['name'], content[1:]) + ','\n",
      "    print '{0} artists crawled from {1} metros'.format(i, j)\n",
      "    j += 1 # Count number of metros\n",
      "\n",
      "# Write to text file\n",
      "f = open('metro_artist_chart_data.json', 'a+')\n",
      "f.write('{' + full_content[:-1] + '}')\n",
      "f.close()"
     ],
     "language": "python",
     "metadata": {},
     "outputs": [
      {
       "output_type": "stream",
       "stream": "stdout",
       "text": [
        "100 artists crawled from 1 metros\n",
        "200 artists crawled from 2 metros"
       ]
      },
      {
       "output_type": "stream",
       "stream": "stdout",
       "text": [
        "\n",
        "300 artists crawled from 3 metros"
       ]
      },
      {
       "output_type": "stream",
       "stream": "stdout",
       "text": [
        "\n",
        "400 artists crawled from 4 metros"
       ]
      },
      {
       "output_type": "stream",
       "stream": "stdout",
       "text": [
        "\n",
        "500 artists crawled from 5 metros"
       ]
      },
      {
       "output_type": "stream",
       "stream": "stdout",
       "text": [
        "\n",
        "600 artists crawled from 6 metros"
       ]
      },
      {
       "output_type": "stream",
       "stream": "stdout",
       "text": [
        "\n",
        "700 artists crawled from 7 metros"
       ]
      },
      {
       "output_type": "stream",
       "stream": "stdout",
       "text": [
        "\n",
        "800 artists crawled from 8 metros"
       ]
      },
      {
       "output_type": "stream",
       "stream": "stdout",
       "text": [
        "\n",
        "900 artists crawled from 9 metros"
       ]
      },
      {
       "output_type": "stream",
       "stream": "stdout",
       "text": [
        "\n",
        "1000 artists crawled from 10 metros"
       ]
      },
      {
       "output_type": "stream",
       "stream": "stdout",
       "text": [
        "\n",
        "1100 artists crawled from 11 metros"
       ]
      },
      {
       "output_type": "stream",
       "stream": "stdout",
       "text": [
        "\n",
        "1200 artists crawled from 12 metros"
       ]
      },
      {
       "output_type": "stream",
       "stream": "stdout",
       "text": [
        "\n",
        "1300 artists crawled from 13 metros"
       ]
      },
      {
       "output_type": "stream",
       "stream": "stdout",
       "text": [
        "\n",
        "1400 artists crawled from 14 metros"
       ]
      },
      {
       "output_type": "stream",
       "stream": "stdout",
       "text": [
        "\n",
        "1500 artists crawled from 15 metros"
       ]
      },
      {
       "output_type": "stream",
       "stream": "stdout",
       "text": [
        "\n",
        "1600 artists crawled from 16 metros"
       ]
      },
      {
       "output_type": "stream",
       "stream": "stdout",
       "text": [
        "\n",
        "1700 artists crawled from 17 metros"
       ]
      },
      {
       "output_type": "stream",
       "stream": "stdout",
       "text": [
        "\n",
        "1800 artists crawled from 18 metros"
       ]
      },
      {
       "output_type": "stream",
       "stream": "stdout",
       "text": [
        "\n",
        "1900 artists crawled from 19 metros"
       ]
      },
      {
       "output_type": "stream",
       "stream": "stdout",
       "text": [
        "\n",
        "2000 artists crawled from 20 metros"
       ]
      },
      {
       "output_type": "stream",
       "stream": "stdout",
       "text": [
        "\n",
        "2000 artists crawled from 21 metros"
       ]
      },
      {
       "output_type": "stream",
       "stream": "stdout",
       "text": [
        "\n",
        "2100 artists crawled from 22 metros"
       ]
      },
      {
       "output_type": "stream",
       "stream": "stdout",
       "text": [
        "\n",
        "2200 artists crawled from 23 metros"
       ]
      },
      {
       "output_type": "stream",
       "stream": "stdout",
       "text": [
        "\n",
        "2300 artists crawled from 24 metros"
       ]
      },
      {
       "output_type": "stream",
       "stream": "stdout",
       "text": [
        "\n",
        "2400 artists crawled from 25 metros"
       ]
      },
      {
       "output_type": "stream",
       "stream": "stdout",
       "text": [
        "\n",
        "2500 artists crawled from 26 metros"
       ]
      },
      {
       "output_type": "stream",
       "stream": "stdout",
       "text": [
        "\n",
        "2600 artists crawled from 27 metros"
       ]
      },
      {
       "output_type": "stream",
       "stream": "stdout",
       "text": [
        "\n",
        "2700 artists crawled from 28 metros"
       ]
      },
      {
       "output_type": "stream",
       "stream": "stdout",
       "text": [
        "\n",
        "2800 artists crawled from 29 metros"
       ]
      },
      {
       "output_type": "stream",
       "stream": "stdout",
       "text": [
        "\n",
        "2900 artists crawled from 30 metros"
       ]
      },
      {
       "output_type": "stream",
       "stream": "stdout",
       "text": [
        "\n",
        "3000 artists crawled from 31 metros"
       ]
      },
      {
       "output_type": "stream",
       "stream": "stdout",
       "text": [
        "\n",
        "3100 artists crawled from 32 metros"
       ]
      },
      {
       "output_type": "stream",
       "stream": "stdout",
       "text": [
        "\n",
        "3200 artists crawled from 33 metros"
       ]
      },
      {
       "output_type": "stream",
       "stream": "stdout",
       "text": [
        "\n",
        "3200 artists crawled from 34 metros"
       ]
      },
      {
       "output_type": "stream",
       "stream": "stdout",
       "text": [
        "\n",
        "3300 artists crawled from 35 metros"
       ]
      },
      {
       "output_type": "stream",
       "stream": "stdout",
       "text": [
        "\n",
        "3400 artists crawled from 36 metros"
       ]
      },
      {
       "output_type": "stream",
       "stream": "stdout",
       "text": [
        "\n",
        "3500 artists crawled from 37 metros"
       ]
      },
      {
       "output_type": "stream",
       "stream": "stdout",
       "text": [
        "\n",
        "3600 artists crawled from 38 metros"
       ]
      },
      {
       "output_type": "stream",
       "stream": "stdout",
       "text": [
        "\n",
        "3700 artists crawled from 39 metros"
       ]
      },
      {
       "output_type": "stream",
       "stream": "stdout",
       "text": [
        "\n",
        "3800 artists crawled from 40 metros"
       ]
      },
      {
       "output_type": "stream",
       "stream": "stdout",
       "text": [
        "\n",
        "3900 artists crawled from 41 metros"
       ]
      },
      {
       "output_type": "stream",
       "stream": "stdout",
       "text": [
        "\n",
        "4000 artists crawled from 42 metros"
       ]
      },
      {
       "output_type": "stream",
       "stream": "stdout",
       "text": [
        "\n",
        "4100 artists crawled from 43 metros"
       ]
      },
      {
       "output_type": "stream",
       "stream": "stdout",
       "text": [
        "\n",
        "4200 artists crawled from 44 metros"
       ]
      },
      {
       "output_type": "stream",
       "stream": "stdout",
       "text": [
        "\n",
        "4300 artists crawled from 45 metros"
       ]
      },
      {
       "output_type": "stream",
       "stream": "stdout",
       "text": [
        "\n",
        "4400 artists crawled from 46 metros"
       ]
      },
      {
       "output_type": "stream",
       "stream": "stdout",
       "text": [
        "\n",
        "4500 artists crawled from 47 metros"
       ]
      },
      {
       "output_type": "stream",
       "stream": "stdout",
       "text": [
        "\n"
       ]
      }
     ],
     "prompt_number": 24
    },
    {
     "cell_type": "code",
     "collapsed": false,
     "input": [
      "# Confirm 0 artists from Washington DC and Seattle\n",
      "url_params = {\n",
      "    'method': 'geo.getMetroArtistChart',\n",
      "    'country': 'United States',\n",
      "    'metro': 'Washington DC',\n",
      "    'api_key': API_KEY\n",
      "}\n",
      "\n",
      "data_washington = request(API_HOST, PATH, url_params)\n",
      "pprint (data_washington)\n",
      "\n",
      "url_params['metro'] = 'Seattle'\n",
      "data_seattle = request(API_HOST, PATH, url_params)\n",
      "pprint (data_seattle)"
     ],
     "language": "python",
     "metadata": {},
     "outputs": [
      {
       "output_type": "stream",
       "stream": "stdout",
       "text": [
        "{u'topartists': {u'#text': u'\\n    ',\n",
        "                 u'metro': u'Washington DC',\n",
        "                 u'page': u'0',\n",
        "                 u'perPage': u'50',\n",
        "                 u'total': u'0',\n",
        "                 u'totalPages': u'0'}}\n",
        "{"
       ]
      },
      {
       "output_type": "stream",
       "stream": "stdout",
       "text": [
        "u'topartists': {u'#text': u'\\n    ',\n",
        "                 u'metro': u'Seattle',\n",
        "                 u'page': u'0',\n",
        "                 u'perPage': u'50',\n",
        "                 u'total': u'0',\n",
        "                 u'totalPages': u'0'}}\n"
       ]
      }
     ],
     "prompt_number": 26
    },
    {
     "cell_type": "code",
     "collapsed": false,
     "input": [
      "import json\n",
      "\n",
      "# Get artist data from json file\n",
      "json_data = open('metro_artist_chart_data.json')\n",
      "artists = json.load(json_data)\n",
      "json_data.close()\n",
      "\n",
      "# Collect fans from each artist\n",
      "i,j = 0,1\n",
      "full_content = ''\n",
      "for metro in artists:\n",
      "    for artist in artists[metro]:\n",
      "        fans_data = get_fans(artist.encode('utf-8'))\n",
      "        if 'topfans' in fans_data:\n",
      "            fans = fans_data['topfans']\n",
      "            content = ''\n",
      "            if 'user' in fans:\n",
      "                if isinstance(fans['user'], list):\n",
      "                    for fan in fans['user']:\n",
      "                        content += ',{' + '\"user_name\":\"{0}\",\"weight\":{1}'.format(fan['name'].encode('utf-8'), fan['weight']) + '}'\n",
      "                        i += 1\n",
      "\n",
      "            full_content += '\"{0}\":[{1}]'.format(artist.encode('utf-8'), content[1:]) + ','\n",
      "    print 'Crawled {0} fans from {1} metros'.format(i, j)\n",
      "    j += 1\n",
      "\n",
      "# Write to text file\n",
      "f = open('artist_chart_fans_data.json', 'w')\n",
      "f.write('{' + full_content[:-1] + '}')\n",
      "f.close()"
     ],
     "language": "python",
     "metadata": {},
     "outputs": [
      {
       "output_type": "stream",
       "stream": "stdout",
       "text": [
        "Crawled 5000 fans from 1 metros\n",
        "Crawled 10000 fans from 2 metros"
       ]
      },
      {
       "output_type": "stream",
       "stream": "stdout",
       "text": [
        "\n",
        "Crawled 14999 fans from 3 metros"
       ]
      },
      {
       "output_type": "stream",
       "stream": "stdout",
       "text": [
        "\n",
        "Crawled 19999 fans from 4 metros"
       ]
      },
      {
       "output_type": "stream",
       "stream": "stdout",
       "text": [
        "\n",
        "Crawled 24999 fans from 5 metros"
       ]
      },
      {
       "output_type": "stream",
       "stream": "stdout",
       "text": [
        "\n",
        "Crawled 29998 fans from 6 metros"
       ]
      },
      {
       "output_type": "stream",
       "stream": "stdout",
       "text": [
        "\n",
        "Crawled 34997 fans from 7 metros"
       ]
      },
      {
       "output_type": "stream",
       "stream": "stdout",
       "text": [
        "\n",
        "Crawled 39997 fans from 8 metros"
       ]
      },
      {
       "output_type": "stream",
       "stream": "stdout",
       "text": [
        "\n",
        "Crawled 39997 fans from 9 metros\n",
        "Crawled 44997 fans from 10 metros"
       ]
      },
      {
       "output_type": "stream",
       "stream": "stdout",
       "text": [
        "\n",
        "Crawled 49355 fans from 11 metros"
       ]
      },
      {
       "output_type": "stream",
       "stream": "stdout",
       "text": [
        "\n",
        "Crawled 54354 fans from 12 metros"
       ]
      },
      {
       "output_type": "stream",
       "stream": "stdout",
       "text": [
        "\n",
        "Crawled 59353 fans from 13 metros"
       ]
      },
      {
       "output_type": "stream",
       "stream": "stdout",
       "text": [
        "\n",
        "Crawled 64352 fans from 14 metros"
       ]
      },
      {
       "output_type": "stream",
       "stream": "stdout",
       "text": [
        "\n",
        "Crawled 69352 fans from 15 metros"
       ]
      },
      {
       "output_type": "stream",
       "stream": "stdout",
       "text": [
        "\n",
        "Crawled 74351 fans from 16 metros"
       ]
      },
      {
       "output_type": "stream",
       "stream": "stdout",
       "text": [
        "\n",
        "Crawled 79351 fans from 17 metros"
       ]
      },
      {
       "output_type": "stream",
       "stream": "stdout",
       "text": [
        "\n",
        "Crawled 84350 fans from 18 metros"
       ]
      },
      {
       "output_type": "stream",
       "stream": "stdout",
       "text": [
        "\n",
        "Crawled 89350 fans from 19 metros"
       ]
      },
      {
       "output_type": "stream",
       "stream": "stdout",
       "text": [
        "\n",
        "Crawled 94350 fans from 20 metros"
       ]
      },
      {
       "output_type": "stream",
       "stream": "stdout",
       "text": [
        "\n",
        "Crawled 99350 fans from 21 metros"
       ]
      },
      {
       "output_type": "stream",
       "stream": "stdout",
       "text": [
        "\n",
        "Crawled 104350 fans from 22 metros"
       ]
      },
      {
       "output_type": "stream",
       "stream": "stdout",
       "text": [
        "\n",
        "Crawled 109350 fans from 23 metros"
       ]
      },
      {
       "output_type": "stream",
       "stream": "stdout",
       "text": [
        "\n",
        "Crawled 114350 fans from 24 metros"
       ]
      },
      {
       "output_type": "stream",
       "stream": "stdout",
       "text": [
        "\n",
        "Crawled 119350 fans from 25 metros"
       ]
      },
      {
       "output_type": "stream",
       "stream": "stdout",
       "text": [
        "\n",
        "Crawled 124350 fans from 26 metros"
       ]
      },
      {
       "output_type": "stream",
       "stream": "stdout",
       "text": [
        "\n",
        "Crawled 129349 fans from 27 metros"
       ]
      },
      {
       "output_type": "stream",
       "stream": "stdout",
       "text": [
        "\n",
        "Crawled 134349 fans from 28 metros"
       ]
      },
      {
       "output_type": "stream",
       "stream": "stdout",
       "text": [
        "\n",
        "Crawled 139349 fans from 29 metros"
       ]
      },
      {
       "output_type": "stream",
       "stream": "stdout",
       "text": [
        "\n",
        "Crawled 144349 fans from 30 metros"
       ]
      },
      {
       "output_type": "stream",
       "stream": "stdout",
       "text": [
        "\n",
        "Crawled 149348 fans from 31 metros"
       ]
      },
      {
       "output_type": "stream",
       "stream": "stdout",
       "text": [
        "\n",
        "Crawled 154347 fans from 32 metros"
       ]
      },
      {
       "output_type": "stream",
       "stream": "stdout",
       "text": [
        "\n",
        "Crawled 159347 fans from 33 metros"
       ]
      },
      {
       "output_type": "stream",
       "stream": "stdout",
       "text": [
        "\n",
        "Crawled 164346 fans from 34 metros"
       ]
      },
      {
       "output_type": "stream",
       "stream": "stdout",
       "text": [
        "\n",
        "Crawled 169346 fans from 35 metros"
       ]
      },
      {
       "output_type": "stream",
       "stream": "stdout",
       "text": [
        "\n",
        "Crawled 174346 fans from 36 metros"
       ]
      },
      {
       "output_type": "stream",
       "stream": "stdout",
       "text": [
        "\n",
        "Crawled 179346 fans from 37 metros"
       ]
      },
      {
       "output_type": "stream",
       "stream": "stdout",
       "text": [
        "\n",
        "Crawled 184346 fans from 38 metros"
       ]
      },
      {
       "output_type": "stream",
       "stream": "stdout",
       "text": [
        "\n",
        "Crawled 189345 fans from 39 metros"
       ]
      },
      {
       "output_type": "stream",
       "stream": "stdout",
       "text": [
        "\n",
        "Crawled 194345 fans from 40 metros"
       ]
      },
      {
       "output_type": "stream",
       "stream": "stdout",
       "text": [
        "\n",
        "Crawled 199344 fans from 41 metros"
       ]
      },
      {
       "output_type": "stream",
       "stream": "stdout",
       "text": [
        "\n",
        "Crawled 204344 fans from 42 metros"
       ]
      },
      {
       "output_type": "stream",
       "stream": "stdout",
       "text": [
        "\n",
        "Crawled 209344 fans from 43 metros"
       ]
      },
      {
       "output_type": "stream",
       "stream": "stdout",
       "text": [
        "\n",
        "Crawled 214344 fans from 44 metros"
       ]
      },
      {
       "output_type": "stream",
       "stream": "stdout",
       "text": [
        "\n",
        "Crawled 219344 fans from 45 metros"
       ]
      },
      {
       "output_type": "stream",
       "stream": "stdout",
       "text": [
        "\n",
        "Crawled 224344 fans from 46 metros"
       ]
      },
      {
       "output_type": "stream",
       "stream": "stdout",
       "text": [
        "\n",
        "Crawled 224344 fans from 47 metros\n"
       ]
      }
     ],
     "prompt_number": 27
    }
   ],
   "metadata": {}
  }
 ]
}