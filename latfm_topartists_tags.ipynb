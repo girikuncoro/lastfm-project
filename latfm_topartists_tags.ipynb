{
 "metadata": {
  "name": "",
  "signature": "sha256:fe5f1b22b415dccab01fbf7b13ddd81c1097ec0b26af0631bd7e1f256a402970"
 },
 "nbformat": 3,
 "nbformat_minor": 0,
 "worksheets": [
  {
   "cells": [
    {
     "cell_type": "code",
     "collapsed": false,
     "input": [
      "# IMPORT\n",
      "import json\n",
      "from urllib import urlopen\n",
      "from pprint import pprint\n",
      "\n",
      "# CONSTANT\n",
      "API_HOST = 'ws.audioscrobbler.com'\n",
      "PATH = '/2.0/'\n",
      "\n",
      "# API key obtained from http://www.last.fm/api/accounts\n",
      "API_KEY = 'ee01024f2fb18a7179897d7d927fef88'\n"
     ],
     "language": "python",
     "metadata": {},
     "outputs": [],
     "prompt_number": 1
    },
    {
     "cell_type": "code",
     "collapsed": false,
     "input": [
      "'''\n",
      "Request function will call API and get response\n",
      "specifiy url_params dictionary as arguments\n",
      "'''\n",
      "def request(host, path, url_params=None):\n",
      "    url_params = url_params or {}\n",
      "    params = 'format=json'\n",
      "    for key in url_params:\n",
      "        params += '&' + key + '=' + url_params[key]\n",
      "        \n",
      "    url = 'http://{0}{1}?{2}'.format(host, path, params)\n",
      "\n",
      "    json_data = urlopen(url).read()\n",
      "    response = json.loads(json_data)\n",
      "    \n",
      "    return response"
     ],
     "language": "python",
     "metadata": {},
     "outputs": [],
     "prompt_number": 2
    },
    {
     "cell_type": "code",
     "collapsed": false,
     "input": [
      "def get_top_artists(number_of_pages, user_name): \n",
      "    user_data = []\n",
      "    url_params = {\n",
      "        'method': 'user.getTopArtists',\n",
      "        'user': user_name,\n",
      "        'period': '12month',\n",
      "        'api_key': API_KEY\n",
      "        }\n",
      "    for i in range(0, number_of_pages):\n",
      "        url_params['page'] = str(i + 1)\n",
      "        user_data.append(request(API_HOST, PATH, url_params))\n",
      "    return user_data"
     ],
     "language": "python",
     "metadata": {},
     "outputs": [],
     "prompt_number": 3
    },
    {
     "cell_type": "code",
     "collapsed": false,
     "input": [
      "# Print 100 topartists for specified user\n",
      "# need user name input\n",
      "user_name = 'poache182'\n",
      "user_topartist = get_top_artists(2, user_name)\n",
      "content = ''\n",
      "full_content = ''\n",
      "\n",
      "for page in user_topartist:\n",
      "    for artist in page['topartists']['artist']:\n",
      "        content += ',{' + '\"artist\":\"{0}\",\"playcount\":{1}'.format(artist['name'].encode('utf-8'), artist['playcount']) + '}'\n",
      "    full_content += '\"{0}\":[{1}]'.format(user_name, content[1:]) + ','\n",
      "\n",
      "print '{' + full_content[:-1] + '}'"
     ],
     "language": "python",
     "metadata": {},
     "outputs": [
      {
       "output_type": "stream",
       "stream": "stdout",
       "text": [
        "{\"poache182\":[{\"artist\":\"Brand New\",\"playcount\":54},{\"artist\":\"The Bronx\",\"playcount\":29},{\"artist\":\"Mariachi El Bronx\",\"playcount\":20},{\"artist\":\"The Boxer Rebellion\",\"playcount\":17},{\"artist\":\"James Vincent McMorrow\",\"playcount\":16},{\"artist\":\"Bayside\",\"playcount\":12},{\"artist\":\"Emily\",\"playcount\":11},{\"artist\":\"Morrissey\",\"playcount\":10},{\"artist\":\"To Kill a King\",\"playcount\":10},{\"artist\":\"Lana Del Rey\",\"playcount\":10},{\"artist\":\"M83\",\"playcount\":9},{\"artist\":\"Nirvana\",\"playcount\":6},{\"artist\":\"My Chemical Romance\",\"playcount\":4},{\"artist\":\"Linkin Park\",\"playcount\":3},{\"artist\":\"Green Day\",\"playcount\":2},{\"artist\":\"Tony Bennett\",\"playcount\":2},{\"artist\":\"The Killers\",\"playcount\":2},{\"artist\":\"Kurt Vile\",\"playcount\":2},{\"artist\":\"Foals\",\"playcount\":2},{\"artist\":\"Public Service Broadcasting\",\"playcount\":2},{\"artist\":\"Sublime\",\"playcount\":1},{\"artist\":\"Phoenix\",\"playcount\":1},{\"artist\":\"Daft Punk\",\"playcount\":1},{\"artist\":\"Radiohead\",\"playcount\":1},{\"artist\":\"Oasis\",\"playcount\":1},{\"artist\":\"Red Hot Chili Peppers\",\"playcount\":1},{\"artist\":\"Dizzy Gillespie\",\"playcount\":1},{\"artist\":\"Weezer\",\"playcount\":1},{\"artist\":\"3 Doors Down\",\"playcount\":1},{\"artist\":\"Alkaline Trio\",\"playcount\":1},{\"artist\":\"Jimmy Eat World\",\"playcount\":1},{\"artist\":\"New Found Glory\",\"playcount\":1},{\"artist\":\"Funeral for a Friend\",\"playcount\":1},{\"artist\":\"Modest Mouse\",\"playcount\":1},{\"artist\":\"Taking Back Sunday\",\"playcount\":1},{\"artist\":\"Aretha Franklin\",\"playcount\":1},{\"artist\":\"Yeah Yeah Yeahs\",\"playcount\":1},{\"artist\":\"Senses Fail\",\"playcount\":1},{\"artist\":\"Armor for Sleep\",\"playcount\":1},{\"artist\":\"Fall Out Boy\",\"playcount\":1},{\"artist\":\"Kings of Leon\",\"playcount\":1},{\"artist\":\"Matchbook Romance\",\"playcount\":1},{\"artist\":\"Billy Talent\",\"playcount\":1},{\"artist\":\"The Maccabees\",\"playcount\":1},{\"artist\":\"Scary Kids Scaring Kids\",\"playcount\":1},{\"artist\":\"The Kooks\",\"playcount\":1},{\"artist\":\"People In Planes\",\"playcount\":1},{\"artist\":\"Arctic Monkeys\",\"playcount\":1},{\"artist\":\"Birdy Nam Nam\",\"playcount\":1},{\"artist\":\"Panic! at the Disco\",\"playcount\":1}],\"poache182\":[{\"artist\":\"Brand New\",\"playcount\":54},{\"artist\":\"The Bronx\",\"playcount\":29},{\"artist\":\"Mariachi El Bronx\",\"playcount\":20},{\"artist\":\"The Boxer Rebellion\",\"playcount\":17},{\"artist\":\"James Vincent McMorrow\",\"playcount\":16},{\"artist\":\"Bayside\",\"playcount\":12},{\"artist\":\"Emily\",\"playcount\":11},{\"artist\":\"Morrissey\",\"playcount\":10},{\"artist\":\"To Kill a King\",\"playcount\":10},{\"artist\":\"Lana Del Rey\",\"playcount\":10},{\"artist\":\"M83\",\"playcount\":9},{\"artist\":\"Nirvana\",\"playcount\":6},{\"artist\":\"My Chemical Romance\",\"playcount\":4},{\"artist\":\"Linkin Park\",\"playcount\":3},{\"artist\":\"Green Day\",\"playcount\":2},{\"artist\":\"Tony Bennett\",\"playcount\":2},{\"artist\":\"The Killers\",\"playcount\":2},{\"artist\":\"Kurt Vile\",\"playcount\":2},{\"artist\":\"Foals\",\"playcount\":2},{\"artist\":\"Public Service Broadcasting\",\"playcount\":2},{\"artist\":\"Sublime\",\"playcount\":1},{\"artist\":\"Phoenix\",\"playcount\":1},{\"artist\":\"Daft Punk\",\"playcount\":1},{\"artist\":\"Radiohead\",\"playcount\":1},{\"artist\":\"Oasis\",\"playcount\":1},{\"artist\":\"Red Hot Chili Peppers\",\"playcount\":1},{\"artist\":\"Dizzy Gillespie\",\"playcount\":1},{\"artist\":\"Weezer\",\"playcount\":1},{\"artist\":\"3 Doors Down\",\"playcount\":1},{\"artist\":\"Alkaline Trio\",\"playcount\":1},{\"artist\":\"Jimmy Eat World\",\"playcount\":1},{\"artist\":\"New Found Glory\",\"playcount\":1},{\"artist\":\"Funeral for a Friend\",\"playcount\":1},{\"artist\":\"Modest Mouse\",\"playcount\":1},{\"artist\":\"Taking Back Sunday\",\"playcount\":1},{\"artist\":\"Aretha Franklin\",\"playcount\":1},{\"artist\":\"Yeah Yeah Yeahs\",\"playcount\":1},{\"artist\":\"Senses Fail\",\"playcount\":1},{\"artist\":\"Armor for Sleep\",\"playcount\":1},{\"artist\":\"Fall Out Boy\",\"playcount\":1},{\"artist\":\"Kings of Leon\",\"playcount\":1},{\"artist\":\"Matchbook Romance\",\"playcount\":1},{\"artist\":\"Billy Talent\",\"playcount\":1},{\"artist\":\"The Maccabees\",\"playcount\":1},{\"artist\":\"Scary Kids Scaring Kids\",\"playcount\":1},{\"artist\":\"The Kooks\",\"playcount\":1},{\"artist\":\"People In Planes\",\"playcount\":1},{\"artist\":\"Arctic Monkeys\",\"playcount\":1},{\"artist\":\"Birdy Nam Nam\",\"playcount\":1},{\"artist\":\"Panic! at the Disco\",\"playcount\":1},{\"artist\":\"The xx\",\"playcount\":1},{\"artist\":\"Villagers\",\"playcount\":1},{\"artist\":\"Friendly Fires\",\"playcount\":1},{\"artist\":\"Neon Trees\",\"playcount\":1},{\"artist\":\"Bombay Bicycle Club\",\"playcount\":1},{\"artist\":\"Miami Horror\",\"playcount\":1},{\"artist\":\"Passion Pit\",\"playcount\":1},{\"artist\":\"Two Door Cinema Club\",\"playcount\":1},{\"artist\":\"American Authors\",\"playcount\":1},{\"artist\":\"Azealia Banks\",\"playcount\":1},{\"artist\":\"Imagine Dragons\",\"playcount\":1},{\"artist\":\"AWOLNATION\",\"playcount\":1},{\"artist\":\"Foster the People\",\"playcount\":1},{\"artist\":\"Grouplove\",\"playcount\":1},{\"artist\":\"Uncle Acid & the Deadbeats\",\"playcount\":1},{\"artist\":\"alt-J\",\"playcount\":1},{\"artist\":\"The Royal Concept\",\"playcount\":1}]}\n"
       ]
      }
     ],
     "prompt_number": 16
    },
    {
     "cell_type": "code",
     "collapsed": false,
     "input": [
      "# Print 100 topartists for specified user\n",
      "# need user name input\n",
      "user_name = 'poache182'\n",
      "topartist_data = get_top_artists(2, user_name)\n",
      "user_topartist = {}\n",
      "user_topartist[user_name] = []\n",
      "\n",
      "for page in topartist_data:\n",
      "    for artist in page['topartists']['artist']:\n",
      "        user_topartist[user_name].append({'artist':artist['name'], 'playcount':artist['playcount']})\n",
      "\n",
      "print json.dumps(user_topartist)"
     ],
     "language": "python",
     "metadata": {},
     "outputs": [
      {
       "output_type": "stream",
       "stream": "stdout",
       "text": [
        "{\"poache182\": [{\"playcount\": \"54\", \"artist\": \"Brand New\"}, {\"playcount\": \"29\", \"artist\": \"The Bronx\"}, {\"playcount\": \"20\", \"artist\": \"Mariachi El Bronx\"}, {\"playcount\": \"17\", \"artist\": \"The Boxer Rebellion\"}, {\"playcount\": \"16\", \"artist\": \"James Vincent McMorrow\"}, {\"playcount\": \"12\", \"artist\": \"Bayside\"}, {\"playcount\": \"11\", \"artist\": \"Emily\"}, {\"playcount\": \"10\", \"artist\": \"Morrissey\"}, {\"playcount\": \"10\", \"artist\": \"To Kill a King\"}, {\"playcount\": \"10\", \"artist\": \"Lana Del Rey\"}, {\"playcount\": \"9\", \"artist\": \"M83\"}, {\"playcount\": \"6\", \"artist\": \"Nirvana\"}, {\"playcount\": \"4\", \"artist\": \"My Chemical Romance\"}, {\"playcount\": \"3\", \"artist\": \"Linkin Park\"}, {\"playcount\": \"2\", \"artist\": \"Green Day\"}, {\"playcount\": \"2\", \"artist\": \"Tony Bennett\"}, {\"playcount\": \"2\", \"artist\": \"The Killers\"}, {\"playcount\": \"2\", \"artist\": \"Kurt Vile\"}, {\"playcount\": \"2\", \"artist\": \"Foals\"}, {\"playcount\": \"2\", \"artist\": \"Public Service Broadcasting\"}, {\"playcount\": \"1\", \"artist\": \"Sublime\"}, {\"playcount\": \"1\", \"artist\": \"Phoenix\"}, {\"playcount\": \"1\", \"artist\": \"Daft Punk\"}, {\"playcount\": \"1\", \"artist\": \"Radiohead\"}, {\"playcount\": \"1\", \"artist\": \"Oasis\"}, {\"playcount\": \"1\", \"artist\": \"Red Hot Chili Peppers\"}, {\"playcount\": \"1\", \"artist\": \"Dizzy Gillespie\"}, {\"playcount\": \"1\", \"artist\": \"Weezer\"}, {\"playcount\": \"1\", \"artist\": \"3 Doors Down\"}, {\"playcount\": \"1\", \"artist\": \"Alkaline Trio\"}, {\"playcount\": \"1\", \"artist\": \"Jimmy Eat World\"}, {\"playcount\": \"1\", \"artist\": \"New Found Glory\"}, {\"playcount\": \"1\", \"artist\": \"Funeral for a Friend\"}, {\"playcount\": \"1\", \"artist\": \"Modest Mouse\"}, {\"playcount\": \"1\", \"artist\": \"Taking Back Sunday\"}, {\"playcount\": \"1\", \"artist\": \"Aretha Franklin\"}, {\"playcount\": \"1\", \"artist\": \"Yeah Yeah Yeahs\"}, {\"playcount\": \"1\", \"artist\": \"Senses Fail\"}, {\"playcount\": \"1\", \"artist\": \"Armor for Sleep\"}, {\"playcount\": \"1\", \"artist\": \"Fall Out Boy\"}, {\"playcount\": \"1\", \"artist\": \"Kings of Leon\"}, {\"playcount\": \"1\", \"artist\": \"Matchbook Romance\"}, {\"playcount\": \"1\", \"artist\": \"Billy Talent\"}, {\"playcount\": \"1\", \"artist\": \"The Maccabees\"}, {\"playcount\": \"1\", \"artist\": \"Scary Kids Scaring Kids\"}, {\"playcount\": \"1\", \"artist\": \"The Kooks\"}, {\"playcount\": \"1\", \"artist\": \"People In Planes\"}, {\"playcount\": \"1\", \"artist\": \"Arctic Monkeys\"}, {\"playcount\": \"1\", \"artist\": \"Birdy Nam Nam\"}, {\"playcount\": \"1\", \"artist\": \"Panic! at the Disco\"}, {\"playcount\": \"1\", \"artist\": \"The xx\"}, {\"playcount\": \"1\", \"artist\": \"Villagers\"}, {\"playcount\": \"1\", \"artist\": \"Friendly Fires\"}, {\"playcount\": \"1\", \"artist\": \"Neon Trees\"}, {\"playcount\": \"1\", \"artist\": \"Bombay Bicycle Club\"}, {\"playcount\": \"1\", \"artist\": \"Miami Horror\"}, {\"playcount\": \"1\", \"artist\": \"Passion Pit\"}, {\"playcount\": \"1\", \"artist\": \"Two Door Cinema Club\"}, {\"playcount\": \"1\", \"artist\": \"American Authors\"}, {\"playcount\": \"1\", \"artist\": \"Azealia Banks\"}, {\"playcount\": \"1\", \"artist\": \"Imagine Dragons\"}, {\"playcount\": \"1\", \"artist\": \"AWOLNATION\"}, {\"playcount\": \"1\", \"artist\": \"Foster the People\"}, {\"playcount\": \"1\", \"artist\": \"Grouplove\"}, {\"playcount\": \"1\", \"artist\": \"Uncle Acid & the Deadbeats\"}, {\"playcount\": \"1\", \"artist\": \"alt-J\"}, {\"playcount\": \"1\", \"artist\": \"The Royal Concept\"}]}\n"
       ]
      }
     ],
     "prompt_number": 27
    },
    {
     "cell_type": "code",
     "collapsed": false,
     "input": [
      "def get_top_tags(user_name): \n",
      "    url_params = {\n",
      "        'method': 'user.getTopTags',\n",
      "        'user': user_name,\n",
      "        'api_key': API_KEY\n",
      "        }\n",
      "    data = request(API_HOST, PATH, url_params)\n",
      "    return data "
     ],
     "language": "python",
     "metadata": {},
     "outputs": [],
     "prompt_number": 37
    },
    {
     "cell_type": "code",
     "collapsed": false,
     "input": [
      "url_params = {\n",
      "    'method': 'user.getTopTags',\n",
      "    'user': user_name,\n",
      "    'api_key': API_KEY\n",
      "}\n",
      "data = request(API_HOST, PATH, url_params)\n",
      "pprint(data['toptags']['tag'])"
     ],
     "language": "python",
     "metadata": {},
     "outputs": [
      {
       "output_type": "stream",
       "stream": "stdout",
       "text": [
        "{u'count': u'1',\n",
        " u'name': u'favorite band ever',\n",
        " u'url': u'www.last.fm/tag/favorite%20band%20ever'}\n"
       ]
      }
     ],
     "prompt_number": 40
    },
    {
     "cell_type": "code",
     "collapsed": false,
     "input": [
      "user_name = 'poache182'\n",
      "user_toptag = get_top_tags(user_name)\n",
      "content = ''\n",
      "\n",
      "if int(user_toptag['toptags']['tag']['count']) == 1:\n",
      "    content = '\"{0}\"'.format(user_toptag['toptags']['tag']['name'])\n",
      "    printed_content = content\n",
      "else:\n",
      "    for tag in user_toptag['toptags']['tag']:\n",
      "        content += ',\"{0}\"'.format(tag['name'].encode('utf-8'))\n",
      "    printed_content = content[1:]\n",
      "    \n",
      "print '{' + '\"{0}\":[{1}]'.format(user_name, printed_content) + '}'  "
     ],
     "language": "python",
     "metadata": {},
     "outputs": [
      {
       "output_type": "stream",
       "stream": "stdout",
       "text": [
        "{\"poache182\":[\"favorite band ever\"]}\n"
       ]
      }
     ],
     "prompt_number": 43
    },
    {
     "cell_type": "code",
     "collapsed": false,
     "input": [
      "user_name = 'poache182'\n",
      "toptag_data = get_top_tags(user_name)\n",
      "user_toptag = {}\n",
      "user_toptag[user_name] = []\n",
      "\n",
      "if int(toptag_data['toptags']['tag']['count']) == 1:\n",
      "    user_toptag[user_name].append(toptag_data['toptags']['tag']['name'])\n",
      "else:\n",
      "    for tag in toptag_data['toptags']['tag']:\n",
      "        user_toptag[user_name].append(tag['name'])\n",
      "    \n",
      "#print '{' + '\"{0}\":[{1}]'.format(user_name, printed_content) + '}'  \n",
      "print user_toptag"
     ],
     "language": "python",
     "metadata": {},
     "outputs": [
      {
       "output_type": "stream",
       "stream": "stdout",
       "text": [
        "{'poache182': [u'favorite band ever']}\n"
       ]
      }
     ],
     "prompt_number": 44
    },
    {
     "cell_type": "code",
     "collapsed": false,
     "input": [],
     "language": "python",
     "metadata": {},
     "outputs": []
    }
   ],
   "metadata": {}
  }
 ]
}